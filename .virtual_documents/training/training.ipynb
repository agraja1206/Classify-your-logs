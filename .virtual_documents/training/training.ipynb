import pandas as pd

df = pd.read_csv('dataset/synthetic_logs.csv')
df
df.source.unique()



df.target_label.unique()


from sklearn.cluster import DBSCAN
from sentence_transformers import SentenceTransformer

